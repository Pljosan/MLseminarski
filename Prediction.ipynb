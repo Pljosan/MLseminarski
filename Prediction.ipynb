{
 "cells": [
  {
   "cell_type": "code",
   "execution_count": 45,
   "metadata": {},
   "outputs": [],
   "source": [
    "import numpy as np\n",
    "import pandas as pd\n",
    "from matplotlib import pyplot as plt\n",
    "%matplotlib inline\n",
    "\n",
    "from sklearn import linear_model\n",
    "from sklearn import model_selection\n",
    "from sklearn import metrics\n",
    "from sklearn import preprocessing"
   ]
  },
  {
   "cell_type": "code",
   "execution_count": null,
   "metadata": {},
   "outputs": [],
   "source": []
  },
  {
   "cell_type": "code",
   "execution_count": 57,
   "metadata": {},
   "outputs": [],
   "source": [
    "data = pd.read_csv('preprocessedData.csv')"
   ]
  },
  {
   "cell_type": "code",
   "execution_count": 58,
   "metadata": {},
   "outputs": [
    {
     "data": {
      "text/html": [
       "<div>\n",
       "<style scoped>\n",
       "    .dataframe tbody tr th:only-of-type {\n",
       "        vertical-align: middle;\n",
       "    }\n",
       "\n",
       "    .dataframe tbody tr th {\n",
       "        vertical-align: top;\n",
       "    }\n",
       "\n",
       "    .dataframe thead th {\n",
       "        text-align: right;\n",
       "    }\n",
       "</style>\n",
       "<table border=\"1\" class=\"dataframe\">\n",
       "  <thead>\n",
       "    <tr style=\"text-align: right;\">\n",
       "      <th></th>\n",
       "      <th>duration</th>\n",
       "      <th>day_of_week</th>\n",
       "      <th>time_of_day</th>\n",
       "      <th>start_station_id_distance</th>\n",
       "      <th>end_station_id_distance</th>\n",
       "      <th>temp_category</th>\n",
       "      <th>mean_dew_point_f</th>\n",
       "      <th>mean_humidity</th>\n",
       "      <th>mean_visibility_miles</th>\n",
       "      <th>mean_wind_speed_mph</th>\n",
       "      <th>precipitation_inches</th>\n",
       "      <th>cloud_cover</th>\n",
       "    </tr>\n",
       "  </thead>\n",
       "  <tbody>\n",
       "    <tr>\n",
       "      <th>0</th>\n",
       "      <td>608</td>\n",
       "      <td>1</td>\n",
       "      <td>noon</td>\n",
       "      <td>0.274358</td>\n",
       "      <td>0.279310</td>\n",
       "      <td>less</td>\n",
       "      <td>45.0</td>\n",
       "      <td>69.0</td>\n",
       "      <td>9.0</td>\n",
       "      <td>1.0</td>\n",
       "      <td>0.0</td>\n",
       "      <td>5.0</td>\n",
       "    </tr>\n",
       "    <tr>\n",
       "      <th>1</th>\n",
       "      <td>662</td>\n",
       "      <td>1</td>\n",
       "      <td>noon</td>\n",
       "      <td>0.274358</td>\n",
       "      <td>0.275123</td>\n",
       "      <td>less</td>\n",
       "      <td>45.0</td>\n",
       "      <td>69.0</td>\n",
       "      <td>9.0</td>\n",
       "      <td>1.0</td>\n",
       "      <td>0.0</td>\n",
       "      <td>5.0</td>\n",
       "    </tr>\n",
       "    <tr>\n",
       "      <th>2</th>\n",
       "      <td>343</td>\n",
       "      <td>1</td>\n",
       "      <td>rush_hour</td>\n",
       "      <td>0.274358</td>\n",
       "      <td>0.273022</td>\n",
       "      <td>less</td>\n",
       "      <td>44.0</td>\n",
       "      <td>64.0</td>\n",
       "      <td>9.0</td>\n",
       "      <td>4.0</td>\n",
       "      <td>0.0</td>\n",
       "      <td>3.0</td>\n",
       "    </tr>\n",
       "    <tr>\n",
       "      <th>3</th>\n",
       "      <td>329</td>\n",
       "      <td>1</td>\n",
       "      <td>rush_hour</td>\n",
       "      <td>0.274358</td>\n",
       "      <td>0.277060</td>\n",
       "      <td>less</td>\n",
       "      <td>44.0</td>\n",
       "      <td>63.0</td>\n",
       "      <td>10.0</td>\n",
       "      <td>12.0</td>\n",
       "      <td>0.0</td>\n",
       "      <td>5.0</td>\n",
       "    </tr>\n",
       "    <tr>\n",
       "      <th>4</th>\n",
       "      <td>446</td>\n",
       "      <td>1</td>\n",
       "      <td>rush_hour</td>\n",
       "      <td>0.274358</td>\n",
       "      <td>0.279954</td>\n",
       "      <td>less</td>\n",
       "      <td>44.0</td>\n",
       "      <td>63.0</td>\n",
       "      <td>10.0</td>\n",
       "      <td>12.0</td>\n",
       "      <td>0.0</td>\n",
       "      <td>5.0</td>\n",
       "    </tr>\n",
       "  </tbody>\n",
       "</table>\n",
       "</div>"
      ],
      "text/plain": [
       "   duration  day_of_week time_of_day  start_station_id_distance  \\\n",
       "0       608            1        noon                   0.274358   \n",
       "1       662            1        noon                   0.274358   \n",
       "2       343            1   rush_hour                   0.274358   \n",
       "3       329            1   rush_hour                   0.274358   \n",
       "4       446            1   rush_hour                   0.274358   \n",
       "\n",
       "   end_station_id_distance temp_category  mean_dew_point_f  mean_humidity  \\\n",
       "0                 0.279310          less              45.0           69.0   \n",
       "1                 0.275123          less              45.0           69.0   \n",
       "2                 0.273022          less              44.0           64.0   \n",
       "3                 0.277060          less              44.0           63.0   \n",
       "4                 0.279954          less              44.0           63.0   \n",
       "\n",
       "   mean_visibility_miles  mean_wind_speed_mph  precipitation_inches  \\\n",
       "0                    9.0                  1.0                   0.0   \n",
       "1                    9.0                  1.0                   0.0   \n",
       "2                    9.0                  4.0                   0.0   \n",
       "3                   10.0                 12.0                   0.0   \n",
       "4                   10.0                 12.0                   0.0   \n",
       "\n",
       "   cloud_cover  \n",
       "0          5.0  \n",
       "1          5.0  \n",
       "2          3.0  \n",
       "3          5.0  \n",
       "4          5.0  "
      ]
     },
     "execution_count": 58,
     "metadata": {},
     "output_type": "execute_result"
    }
   ],
   "source": [
    "data.head()"
   ]
  },
  {
   "cell_type": "code",
   "execution_count": null,
   "metadata": {},
   "outputs": [],
   "source": []
  },
  {
   "cell_type": "code",
   "execution_count": 4,
   "metadata": {},
   "outputs": [],
   "source": [
    "data.temp_category = pd.get_dummies(data.temp_category, drop_first=True)"
   ]
  },
  {
   "cell_type": "code",
   "execution_count": 5,
   "metadata": {},
   "outputs": [],
   "source": [
    "# data.time_of_day = pd.get_dummies(data.time_of_day)"
   ]
  },
  {
   "cell_type": "code",
   "execution_count": null,
   "metadata": {},
   "outputs": [],
   "source": []
  },
  {
   "cell_type": "code",
   "execution_count": 6,
   "metadata": {},
   "outputs": [],
   "source": [
    "# data.loc[data.temp_category == 'less', 'temp_category'] = 0\n",
    "# data.loc[data.temp_category == 'between', 'temp_category'] = 1"
   ]
  },
  {
   "cell_type": "code",
   "execution_count": 7,
   "metadata": {},
   "outputs": [],
   "source": [
    "data.loc[data.time_of_day == 'noon', 'time_of_day'] = 0.6\n",
    "data.loc[data.time_of_day == 'rush_hour', 'time_of_day'] = 0.3\n",
    "data.loc[data.time_of_day == 'night', 'time_of_day'] = 0.9\n",
    "data.loc[data.time_of_day == 'early_morning', 'time_of_day'] = 0"
   ]
  },
  {
   "cell_type": "code",
   "execution_count": 8,
   "metadata": {},
   "outputs": [],
   "source": [
    "data = data.dropna(subset=['start_station_id_distance', 'end_station_id_distance'])"
   ]
  },
  {
   "cell_type": "code",
   "execution_count": null,
   "metadata": {},
   "outputs": [],
   "source": []
  },
  {
   "cell_type": "code",
   "execution_count": 9,
   "metadata": {},
   "outputs": [
    {
     "data": {
      "text/plain": [
       "(59715, 12)"
      ]
     },
     "execution_count": 9,
     "metadata": {},
     "output_type": "execute_result"
    }
   ],
   "source": [
    "data.shape"
   ]
  },
  {
   "cell_type": "code",
   "execution_count": 10,
   "metadata": {},
   "outputs": [],
   "source": [
    "data = data.drop_duplicates(keep=False)"
   ]
  },
  {
   "cell_type": "code",
   "execution_count": null,
   "metadata": {},
   "outputs": [],
   "source": []
  },
  {
   "cell_type": "code",
   "execution_count": 11,
   "metadata": {},
   "outputs": [],
   "source": [
    "y = pd.DataFrame(data['duration'], columns=['duration'])\n",
    "\n",
    "x = data.drop(columns=['duration'])"
   ]
  },
  {
   "cell_type": "code",
   "execution_count": 12,
   "metadata": {},
   "outputs": [
    {
     "data": {
      "text/html": [
       "<div>\n",
       "<style scoped>\n",
       "    .dataframe tbody tr th:only-of-type {\n",
       "        vertical-align: middle;\n",
       "    }\n",
       "\n",
       "    .dataframe tbody tr th {\n",
       "        vertical-align: top;\n",
       "    }\n",
       "\n",
       "    .dataframe thead th {\n",
       "        text-align: right;\n",
       "    }\n",
       "</style>\n",
       "<table border=\"1\" class=\"dataframe\">\n",
       "  <thead>\n",
       "    <tr style=\"text-align: right;\">\n",
       "      <th></th>\n",
       "      <th>day_of_week</th>\n",
       "      <th>time_of_day</th>\n",
       "      <th>start_station_id_distance</th>\n",
       "      <th>end_station_id_distance</th>\n",
       "      <th>temp_category</th>\n",
       "      <th>mean_dew_point_f</th>\n",
       "      <th>mean_humidity</th>\n",
       "      <th>mean_visibility_miles</th>\n",
       "      <th>mean_wind_speed_mph</th>\n",
       "      <th>precipitation_inches</th>\n",
       "      <th>cloud_cover</th>\n",
       "    </tr>\n",
       "  </thead>\n",
       "  <tbody>\n",
       "    <tr>\n",
       "      <th>0</th>\n",
       "      <td>1</td>\n",
       "      <td>0.6</td>\n",
       "      <td>0.274358</td>\n",
       "      <td>0.279310</td>\n",
       "      <td>1</td>\n",
       "      <td>45.0</td>\n",
       "      <td>69.0</td>\n",
       "      <td>9.0</td>\n",
       "      <td>1.0</td>\n",
       "      <td>0.0</td>\n",
       "      <td>5.0</td>\n",
       "    </tr>\n",
       "    <tr>\n",
       "      <th>1</th>\n",
       "      <td>1</td>\n",
       "      <td>0.6</td>\n",
       "      <td>0.274358</td>\n",
       "      <td>0.275123</td>\n",
       "      <td>1</td>\n",
       "      <td>45.0</td>\n",
       "      <td>69.0</td>\n",
       "      <td>9.0</td>\n",
       "      <td>1.0</td>\n",
       "      <td>0.0</td>\n",
       "      <td>5.0</td>\n",
       "    </tr>\n",
       "    <tr>\n",
       "      <th>2</th>\n",
       "      <td>1</td>\n",
       "      <td>0.3</td>\n",
       "      <td>0.274358</td>\n",
       "      <td>0.273022</td>\n",
       "      <td>1</td>\n",
       "      <td>44.0</td>\n",
       "      <td>64.0</td>\n",
       "      <td>9.0</td>\n",
       "      <td>4.0</td>\n",
       "      <td>0.0</td>\n",
       "      <td>3.0</td>\n",
       "    </tr>\n",
       "    <tr>\n",
       "      <th>3</th>\n",
       "      <td>1</td>\n",
       "      <td>0.3</td>\n",
       "      <td>0.274358</td>\n",
       "      <td>0.277060</td>\n",
       "      <td>1</td>\n",
       "      <td>44.0</td>\n",
       "      <td>63.0</td>\n",
       "      <td>10.0</td>\n",
       "      <td>12.0</td>\n",
       "      <td>0.0</td>\n",
       "      <td>5.0</td>\n",
       "    </tr>\n",
       "    <tr>\n",
       "      <th>4</th>\n",
       "      <td>1</td>\n",
       "      <td>0.3</td>\n",
       "      <td>0.274358</td>\n",
       "      <td>0.279954</td>\n",
       "      <td>1</td>\n",
       "      <td>44.0</td>\n",
       "      <td>63.0</td>\n",
       "      <td>10.0</td>\n",
       "      <td>12.0</td>\n",
       "      <td>0.0</td>\n",
       "      <td>5.0</td>\n",
       "    </tr>\n",
       "  </tbody>\n",
       "</table>\n",
       "</div>"
      ],
      "text/plain": [
       "   day_of_week time_of_day  start_station_id_distance  \\\n",
       "0            1         0.6                   0.274358   \n",
       "1            1         0.6                   0.274358   \n",
       "2            1         0.3                   0.274358   \n",
       "3            1         0.3                   0.274358   \n",
       "4            1         0.3                   0.274358   \n",
       "\n",
       "   end_station_id_distance  temp_category  mean_dew_point_f  mean_humidity  \\\n",
       "0                 0.279310              1              45.0           69.0   \n",
       "1                 0.275123              1              45.0           69.0   \n",
       "2                 0.273022              1              44.0           64.0   \n",
       "3                 0.277060              1              44.0           63.0   \n",
       "4                 0.279954              1              44.0           63.0   \n",
       "\n",
       "   mean_visibility_miles  mean_wind_speed_mph  precipitation_inches  \\\n",
       "0                    9.0                  1.0                   0.0   \n",
       "1                    9.0                  1.0                   0.0   \n",
       "2                    9.0                  4.0                   0.0   \n",
       "3                   10.0                 12.0                   0.0   \n",
       "4                   10.0                 12.0                   0.0   \n",
       "\n",
       "   cloud_cover  \n",
       "0          5.0  \n",
       "1          5.0  \n",
       "2          3.0  \n",
       "3          5.0  \n",
       "4          5.0  "
      ]
     },
     "execution_count": 12,
     "metadata": {},
     "output_type": "execute_result"
    }
   ],
   "source": [
    "x.head()"
   ]
  },
  {
   "cell_type": "code",
   "execution_count": 13,
   "metadata": {},
   "outputs": [
    {
     "data": {
      "text/html": [
       "<div>\n",
       "<style scoped>\n",
       "    .dataframe tbody tr th:only-of-type {\n",
       "        vertical-align: middle;\n",
       "    }\n",
       "\n",
       "    .dataframe tbody tr th {\n",
       "        vertical-align: top;\n",
       "    }\n",
       "\n",
       "    .dataframe thead th {\n",
       "        text-align: right;\n",
       "    }\n",
       "</style>\n",
       "<table border=\"1\" class=\"dataframe\">\n",
       "  <thead>\n",
       "    <tr style=\"text-align: right;\">\n",
       "      <th></th>\n",
       "      <th>duration</th>\n",
       "    </tr>\n",
       "  </thead>\n",
       "  <tbody>\n",
       "    <tr>\n",
       "      <th>0</th>\n",
       "      <td>608</td>\n",
       "    </tr>\n",
       "    <tr>\n",
       "      <th>1</th>\n",
       "      <td>662</td>\n",
       "    </tr>\n",
       "    <tr>\n",
       "      <th>2</th>\n",
       "      <td>343</td>\n",
       "    </tr>\n",
       "    <tr>\n",
       "      <th>3</th>\n",
       "      <td>329</td>\n",
       "    </tr>\n",
       "    <tr>\n",
       "      <th>4</th>\n",
       "      <td>446</td>\n",
       "    </tr>\n",
       "  </tbody>\n",
       "</table>\n",
       "</div>"
      ],
      "text/plain": [
       "   duration\n",
       "0       608\n",
       "1       662\n",
       "2       343\n",
       "3       329\n",
       "4       446"
      ]
     },
     "execution_count": 13,
     "metadata": {},
     "output_type": "execute_result"
    }
   ],
   "source": [
    "y.head()"
   ]
  },
  {
   "cell_type": "code",
   "execution_count": 14,
   "metadata": {},
   "outputs": [],
   "source": [
    "y['duration'] = y['duration'] / 60"
   ]
  },
  {
   "cell_type": "code",
   "execution_count": null,
   "metadata": {},
   "outputs": [],
   "source": []
  },
  {
   "cell_type": "code",
   "execution_count": 15,
   "metadata": {},
   "outputs": [],
   "source": [
    "x_train, x_test, y_train, y_test = model_selection.train_test_split(x, y, test_size = 0.33, random_state = 7)"
   ]
  },
  {
   "cell_type": "code",
   "execution_count": null,
   "metadata": {},
   "outputs": [],
   "source": []
  },
  {
   "cell_type": "code",
   "execution_count": 16,
   "metadata": {},
   "outputs": [],
   "source": [
    "# x_train.min(axis=0)"
   ]
  },
  {
   "cell_type": "code",
   "execution_count": 17,
   "metadata": {},
   "outputs": [],
   "source": [
    "# x_train.max(axis=0)"
   ]
  },
  {
   "cell_type": "code",
   "execution_count": null,
   "metadata": {},
   "outputs": [],
   "source": []
  },
  {
   "cell_type": "code",
   "execution_count": null,
   "metadata": {},
   "outputs": [],
   "source": []
  },
  {
   "cell_type": "code",
   "execution_count": 18,
   "metadata": {},
   "outputs": [
    {
     "name": "stderr",
     "output_type": "stream",
     "text": [
      "/home/ana/anaconda2/lib/python2.7/site-packages/ipykernel_launcher.py:2: SettingWithCopyWarning: \n",
      "A value is trying to be set on a copy of a slice from a DataFrame.\n",
      "Try using .loc[row_indexer,col_indexer] = value instead\n",
      "\n",
      "See the caveats in the documentation: http://pandas.pydata.org/pandas-docs/stable/indexing.html#indexing-view-versus-copy\n",
      "  \n",
      "/home/ana/anaconda2/lib/python2.7/site-packages/pandas/core/indexing.py:543: SettingWithCopyWarning: \n",
      "A value is trying to be set on a copy of a slice from a DataFrame.\n",
      "Try using .loc[row_indexer,col_indexer] = value instead\n",
      "\n",
      "See the caveats in the documentation: http://pandas.pydata.org/pandas-docs/stable/indexing.html#indexing-view-versus-copy\n",
      "  self.obj[item] = s\n"
     ]
    }
   ],
   "source": [
    "scaler = preprocessing.MinMaxScaler()\n",
    "x_train[['mean_dew_point_f', 'mean_humidity', 'mean_visibility_miles', 'mean_wind_speed_mph', 'precipitation_inches', 'cloud_cover']] = scaler.fit_transform(x_train[['mean_dew_point_f', 'mean_humidity', 'mean_visibility_miles', 'mean_wind_speed_mph', 'precipitation_inches', 'cloud_cover']])"
   ]
  },
  {
   "cell_type": "code",
   "execution_count": 19,
   "metadata": {},
   "outputs": [
    {
     "name": "stderr",
     "output_type": "stream",
     "text": [
      "/home/ana/anaconda2/lib/python2.7/site-packages/ipykernel_launcher.py:1: SettingWithCopyWarning: \n",
      "A value is trying to be set on a copy of a slice from a DataFrame.\n",
      "Try using .loc[row_indexer,col_indexer] = value instead\n",
      "\n",
      "See the caveats in the documentation: http://pandas.pydata.org/pandas-docs/stable/indexing.html#indexing-view-versus-copy\n",
      "  \"\"\"Entry point for launching an IPython kernel.\n"
     ]
    }
   ],
   "source": [
    "x_test[['mean_dew_point_f', 'mean_humidity', 'mean_visibility_miles', 'mean_wind_speed_mph', 'precipitation_inches', 'cloud_cover']] = scaler.transform(x_test[['mean_dew_point_f', 'mean_humidity', 'mean_visibility_miles', 'mean_wind_speed_mph', 'precipitation_inches', 'cloud_cover']])"
   ]
  },
  {
   "cell_type": "code",
   "execution_count": 20,
   "metadata": {},
   "outputs": [],
   "source": [
    "# x_train.head()"
   ]
  },
  {
   "cell_type": "code",
   "execution_count": null,
   "metadata": {},
   "outputs": [],
   "source": []
  },
  {
   "cell_type": "code",
   "execution_count": 21,
   "metadata": {},
   "outputs": [],
   "source": [
    "# scaler = preprocessing.StandardScaler()\n",
    "# scaler.fit(x_train)\n",
    "# x_train = scaler.transform(x_train)\n",
    "# x_test = scaler.transform(x_test)"
   ]
  },
  {
   "cell_type": "code",
   "execution_count": 22,
   "metadata": {},
   "outputs": [],
   "source": [
    "x.time_of_day = x.time_of_day.astype('float64')"
   ]
  },
  {
   "cell_type": "code",
   "execution_count": null,
   "metadata": {},
   "outputs": [],
   "source": []
  },
  {
   "cell_type": "code",
   "execution_count": null,
   "metadata": {},
   "outputs": [],
   "source": []
  },
  {
   "cell_type": "code",
   "execution_count": null,
   "metadata": {},
   "outputs": [],
   "source": []
  },
  {
   "cell_type": "code",
   "execution_count": null,
   "metadata": {},
   "outputs": [],
   "source": []
  },
  {
   "cell_type": "code",
   "execution_count": null,
   "metadata": {},
   "outputs": [],
   "source": []
  },
  {
   "cell_type": "code",
   "execution_count": null,
   "metadata": {},
   "outputs": [],
   "source": []
  },
  {
   "cell_type": "code",
   "execution_count": null,
   "metadata": {},
   "outputs": [],
   "source": []
  },
  {
   "cell_type": "code",
   "execution_count": null,
   "metadata": {},
   "outputs": [],
   "source": []
  },
  {
   "cell_type": "code",
   "execution_count": 23,
   "metadata": {},
   "outputs": [
    {
     "data": {
      "text/plain": [
       "LinearRegression(copy_X=True, fit_intercept=True, n_jobs=1, normalize=False)"
      ]
     },
     "execution_count": 23,
     "metadata": {},
     "output_type": "execute_result"
    }
   ],
   "source": [
    "model = linear_model.LinearRegression()\n",
    "model.fit(x_train, y_train)"
   ]
  },
  {
   "cell_type": "code",
   "execution_count": 24,
   "metadata": {},
   "outputs": [],
   "source": [
    "y_predicted = model.predict(x_test)"
   ]
  },
  {
   "cell_type": "code",
   "execution_count": 25,
   "metadata": {},
   "outputs": [
    {
     "data": {
      "text/plain": [
       "30.28290086711344"
      ]
     },
     "execution_count": 25,
     "metadata": {},
     "output_type": "execute_result"
    }
   ],
   "source": [
    "metrics.mean_squared_error(y_test, y_predicted)"
   ]
  },
  {
   "cell_type": "code",
   "execution_count": 26,
   "metadata": {},
   "outputs": [
    {
     "data": {
      "text/plain": [
       "30.506754073684043"
      ]
     },
     "execution_count": 26,
     "metadata": {},
     "output_type": "execute_result"
    }
   ],
   "source": [
    "y_train_predicted = model.predict(x_train)\n",
    "metrics.mean_squared_error(y_train, y_train_predicted)"
   ]
  },
  {
   "cell_type": "code",
   "execution_count": 333,
   "metadata": {},
   "outputs": [],
   "source": [
    "np.random.seed(2813)"
   ]
  },
  {
   "cell_type": "code",
   "execution_count": 334,
   "metadata": {},
   "outputs": [
    {
     "data": {
      "text/plain": [
       "array([[10.26970982]])"
      ]
     },
     "execution_count": 334,
     "metadata": {},
     "output_type": "execute_result"
    }
   ],
   "source": [
    "sample = np.random.randn(11)\n",
    "\n",
    "predicted = model.predict(sample.reshape(1,-1))\n",
    "\n",
    "predicted"
   ]
  },
  {
   "cell_type": "code",
   "execution_count": null,
   "metadata": {},
   "outputs": [],
   "source": []
  },
  {
   "cell_type": "code",
   "execution_count": 335,
   "metadata": {},
   "outputs": [],
   "source": [
    "#finalni model"
   ]
  },
  {
   "cell_type": "code",
   "execution_count": 336,
   "metadata": {},
   "outputs": [],
   "source": [
    "final = model.fit(x, y)"
   ]
  },
  {
   "cell_type": "code",
   "execution_count": null,
   "metadata": {},
   "outputs": [],
   "source": []
  },
  {
   "cell_type": "code",
   "execution_count": null,
   "metadata": {},
   "outputs": [],
   "source": []
  },
  {
   "cell_type": "code",
   "execution_count": null,
   "metadata": {},
   "outputs": [],
   "source": []
  },
  {
   "cell_type": "code",
   "execution_count": 47,
   "metadata": {},
   "outputs": [],
   "source": [
    "from keras.models import Sequential\n",
    "from keras.layers import Dense, Activation\n",
    "from keras.datasets import boston_housing"
   ]
  },
  {
   "cell_type": "code",
   "execution_count": null,
   "metadata": {},
   "outputs": [],
   "source": []
  },
  {
   "cell_type": "code",
   "execution_count": 340,
   "metadata": {},
   "outputs": [],
   "source": [
    "# data = pd.read_csv('preprocessedData.csv')"
   ]
  },
  {
   "cell_type": "code",
   "execution_count": 341,
   "metadata": {},
   "outputs": [],
   "source": [
    "# y = pd.DataFrame(data['duration'], columns=['duration'])\n",
    "\n",
    "# x = data.drop(columns=['duration'])"
   ]
  },
  {
   "cell_type": "code",
   "execution_count": 342,
   "metadata": {},
   "outputs": [],
   "source": [
    "# x_train, x_test,  y_train, y_test = model_selection.train_test_split(x, y, test_size = 0.33, random_state = 7)"
   ]
  },
  {
   "cell_type": "code",
   "execution_count": null,
   "metadata": {},
   "outputs": [],
   "source": []
  },
  {
   "cell_type": "code",
   "execution_count": 343,
   "metadata": {},
   "outputs": [],
   "source": [
    "number_of_features = x_train.shape[1]\n",
    "output_size = 1"
   ]
  },
  {
   "cell_type": "code",
   "execution_count": 384,
   "metadata": {},
   "outputs": [],
   "source": [
    "model = Sequential()"
   ]
  },
  {
   "cell_type": "code",
   "execution_count": 385,
   "metadata": {},
   "outputs": [],
   "source": [
    "# 500, 400, 300, and 100,"
   ]
  },
  {
   "cell_type": "code",
   "execution_count": 386,
   "metadata": {},
   "outputs": [],
   "source": [
    "model.add(Dense(units = 500, input_dim = number_of_features, activation = 'relu'))"
   ]
  },
  {
   "cell_type": "code",
   "execution_count": 387,
   "metadata": {},
   "outputs": [],
   "source": [
    "model.add(Dense(units = 400, activation = 'relu'))"
   ]
  },
  {
   "cell_type": "code",
   "execution_count": 388,
   "metadata": {},
   "outputs": [],
   "source": [
    "model.add(Dense(units = 300, activation = 'relu'))"
   ]
  },
  {
   "cell_type": "code",
   "execution_count": 389,
   "metadata": {},
   "outputs": [],
   "source": [
    "model.add(Dense(units = 100, activation = 'relu'))"
   ]
  },
  {
   "cell_type": "code",
   "execution_count": 390,
   "metadata": {},
   "outputs": [],
   "source": [
    "model.add(Dense(units = output_size)) #ovde treba softmax"
   ]
  },
  {
   "cell_type": "code",
   "execution_count": null,
   "metadata": {},
   "outputs": [],
   "source": []
  },
  {
   "cell_type": "code",
   "execution_count": 391,
   "metadata": {},
   "outputs": [],
   "source": [
    "model.compile(optimizer='adam', loss='mse')"
   ]
  },
  {
   "cell_type": "code",
   "execution_count": null,
   "metadata": {},
   "outputs": [],
   "source": []
  },
  {
   "cell_type": "code",
   "execution_count": 392,
   "metadata": {},
   "outputs": [
    {
     "name": "stdout",
     "output_type": "stream",
     "text": [
      "_________________________________________________________________\n",
      "Layer (type)                 Output Shape              Param #   \n",
      "=================================================================\n",
      "dense_8 (Dense)              (None, 500)               6000      \n",
      "_________________________________________________________________\n",
      "dense_9 (Dense)              (None, 400)               200400    \n",
      "_________________________________________________________________\n",
      "dense_10 (Dense)             (None, 300)               120300    \n",
      "_________________________________________________________________\n",
      "dense_11 (Dense)             (None, 100)               30100     \n",
      "_________________________________________________________________\n",
      "dense_12 (Dense)             (None, 1)                 101       \n",
      "=================================================================\n",
      "Total params: 356,901\n",
      "Trainable params: 356,901\n",
      "Non-trainable params: 0\n",
      "_________________________________________________________________\n"
     ]
    }
   ],
   "source": [
    "model.summary()"
   ]
  },
  {
   "cell_type": "code",
   "execution_count": null,
   "metadata": {},
   "outputs": [],
   "source": []
  },
  {
   "cell_type": "code",
   "execution_count": 393,
   "metadata": {},
   "outputs": [
    {
     "name": "stdout",
     "output_type": "stream",
     "text": [
      "Epoch 1/100\n",
      "39951/39951 [==============================] - 6s 149us/step - loss: 114.5827\n",
      "Epoch 2/100\n",
      "39951/39951 [==============================] - 6s 147us/step - loss: 46.2407\n",
      "Epoch 3/100\n",
      "39951/39951 [==============================] - 6s 158us/step - loss: 37.5799\n",
      "Epoch 4/100\n",
      "39951/39951 [==============================] - 6s 145us/step - loss: 34.1304\n",
      "Epoch 5/100\n",
      "39951/39951 [==============================] - 6s 144us/step - loss: 32.7221\n",
      "Epoch 6/100\n",
      "39951/39951 [==============================] - 6s 152us/step - loss: 31.7474\n",
      "Epoch 7/100\n",
      "39951/39951 [==============================] - 6s 141us/step - loss: 31.2460\n",
      "Epoch 8/100\n",
      "39951/39951 [==============================] - 6s 148us/step - loss: 30.9807\n",
      "Epoch 9/100\n",
      "39951/39951 [==============================] - 6s 140us/step - loss: 30.8294\n",
      "Epoch 10/100\n",
      "39951/39951 [==============================] - 6s 161us/step - loss: 30.7344\n",
      "Epoch 11/100\n",
      "39951/39951 [==============================] - 7s 168us/step - loss: 30.6609\n",
      "Epoch 12/100\n",
      "39951/39951 [==============================] - 6s 143us/step - loss: 30.6236\n",
      "Epoch 13/100\n",
      "39951/39951 [==============================] - 6s 152us/step - loss: 30.6047\n",
      "Epoch 14/100\n",
      "39951/39951 [==============================] - 6s 157us/step - loss: 30.5619\n",
      "Epoch 15/100\n",
      "39951/39951 [==============================] - 7s 176us/step - loss: 30.5377\n",
      "Epoch 16/100\n",
      "39951/39951 [==============================] - 6s 155us/step - loss: 30.5207\n",
      "Epoch 17/100\n",
      "39951/39951 [==============================] - 6s 157us/step - loss: 30.5156\n",
      "Epoch 18/100\n",
      "39951/39951 [==============================] - 6s 155us/step - loss: 30.4795\n",
      "Epoch 19/100\n",
      "39951/39951 [==============================] - 9s 221us/step - loss: 30.4955\n",
      "Epoch 20/100\n",
      "39951/39951 [==============================] - 6s 153us/step - loss: 30.4623\n",
      "Epoch 21/100\n",
      "39951/39951 [==============================] - 7s 174us/step - loss: 30.4655\n",
      "Epoch 22/100\n",
      "39951/39951 [==============================] - 8s 204us/step - loss: 30.4341\n",
      "Epoch 23/100\n",
      "39951/39951 [==============================] - 8s 196us/step - loss: 30.4235\n",
      "Epoch 24/100\n",
      "39951/39951 [==============================] - 7s 172us/step - loss: 30.4062\n",
      "Epoch 25/100\n",
      "39951/39951 [==============================] - 7s 170us/step - loss: 30.4114\n",
      "Epoch 26/100\n",
      "39951/39951 [==============================] - 6s 163us/step - loss: 30.3994\n",
      "Epoch 27/100\n",
      "39951/39951 [==============================] - 7s 179us/step - loss: 30.3851\n",
      "Epoch 28/100\n",
      "39951/39951 [==============================] - 7s 167us/step - loss: 30.3732\n",
      "Epoch 29/100\n",
      "39951/39951 [==============================] - 7s 179us/step - loss: 30.3709\n",
      "Epoch 30/100\n",
      "39951/39951 [==============================] - 7s 180us/step - loss: 30.3440\n",
      "Epoch 31/100\n",
      "39951/39951 [==============================] - 7s 181us/step - loss: 30.3495\n",
      "Epoch 32/100\n",
      "39951/39951 [==============================] - 7s 168us/step - loss: 30.3326\n",
      "Epoch 33/100\n",
      "39951/39951 [==============================] - 7s 178us/step - loss: 30.3305\n",
      "Epoch 34/100\n",
      "39951/39951 [==============================] - 7s 168us/step - loss: 30.3205\n",
      "Epoch 35/100\n",
      "39951/39951 [==============================] - 7s 166us/step - loss: 30.3516\n",
      "Epoch 36/100\n",
      "39951/39951 [==============================] - 8s 201us/step - loss: 30.3225\n",
      "Epoch 37/100\n",
      "39951/39951 [==============================] - 8s 190us/step - loss: 30.3622\n",
      "Epoch 38/100\n",
      "39951/39951 [==============================] - 7s 171us/step - loss: 30.3379\n",
      "Epoch 39/100\n",
      "39951/39951 [==============================] - 7s 174us/step - loss: 30.3236\n",
      "Epoch 40/100\n",
      "39951/39951 [==============================] - 7s 163us/step - loss: 30.3043\n",
      "Epoch 41/100\n",
      "39951/39951 [==============================] - 7s 166us/step - loss: 30.2807\n",
      "Epoch 42/100\n",
      "39951/39951 [==============================] - 8s 203us/step - loss: 30.3349\n",
      "Epoch 43/100\n",
      "39951/39951 [==============================] - 8s 189us/step - loss: 30.3544\n",
      "Epoch 44/100\n",
      "39951/39951 [==============================] - 7s 166us/step - loss: 30.3346\n",
      "Epoch 45/100\n",
      "39951/39951 [==============================] - 7s 167us/step - loss: 30.3355\n",
      "Epoch 46/100\n",
      "39951/39951 [==============================] - 7s 178us/step - loss: 30.3105\n",
      "Epoch 47/100\n",
      "39951/39951 [==============================] - 7s 178us/step - loss: 30.2728\n",
      "Epoch 48/100\n",
      "39951/39951 [==============================] - 8s 191us/step - loss: 30.2877\n",
      "Epoch 49/100\n",
      "39951/39951 [==============================] - 7s 165us/step - loss: 30.2495\n",
      "Epoch 50/100\n",
      "39951/39951 [==============================] - 6s 162us/step - loss: 30.2464\n",
      "Epoch 51/100\n",
      "39951/39951 [==============================] - 7s 176us/step - loss: 30.2379\n",
      "Epoch 52/100\n",
      "39951/39951 [==============================] - 7s 177us/step - loss: 30.2258\n",
      "Epoch 53/100\n",
      "39951/39951 [==============================] - 10s 247us/step - loss: 30.2471\n",
      "Epoch 54/100\n",
      "39951/39951 [==============================] - 7s 184us/step - loss: 30.2389\n",
      "Epoch 55/100\n",
      "39951/39951 [==============================] - 7s 165us/step - loss: 30.2390\n",
      "Epoch 56/100\n",
      "39951/39951 [==============================] - 7s 170us/step - loss: 30.2255\n",
      "Epoch 57/100\n",
      "39951/39951 [==============================] - 7s 164us/step - loss: 30.2228\n",
      "Epoch 58/100\n",
      "39951/39951 [==============================] - 7s 169us/step - loss: 30.2169\n",
      "Epoch 59/100\n",
      "39951/39951 [==============================] - 7s 164us/step - loss: 30.2389\n",
      "Epoch 60/100\n",
      "39951/39951 [==============================] - 7s 166us/step - loss: 30.2409\n",
      "Epoch 61/100\n",
      "39951/39951 [==============================] - 6s 161us/step - loss: 30.2107\n",
      "Epoch 62/100\n",
      "39951/39951 [==============================] - 7s 170us/step - loss: 30.1997\n",
      "Epoch 63/100\n",
      "39951/39951 [==============================] - 6s 161us/step - loss: 30.2015\n",
      "Epoch 64/100\n",
      "39951/39951 [==============================] - 8s 192us/step - loss: 30.1900\n",
      "Epoch 65/100\n",
      "39951/39951 [==============================] - 7s 181us/step - loss: 30.1949\n",
      "Epoch 66/100\n",
      "39951/39951 [==============================] - 7s 164us/step - loss: 30.1974\n",
      "Epoch 67/100\n",
      "39951/39951 [==============================] - 7s 174us/step - loss: 30.1940\n",
      "Epoch 68/100\n",
      "39951/39951 [==============================] - 9s 224us/step - loss: 30.1875\n",
      "Epoch 69/100\n",
      "39951/39951 [==============================] - 8s 193us/step - loss: 30.1903\n",
      "Epoch 70/100\n",
      "39951/39951 [==============================] - 7s 185us/step - loss: 30.1817\n",
      "Epoch 71/100\n",
      "39951/39951 [==============================] - 7s 167us/step - loss: 30.1779\n",
      "Epoch 72/100\n",
      "39951/39951 [==============================] - 7s 168us/step - loss: 30.1802\n",
      "Epoch 73/100\n",
      "39951/39951 [==============================] - 8s 188us/step - loss: 30.1936\n",
      "Epoch 74/100\n",
      "39951/39951 [==============================] - 8s 199us/step - loss: 30.2044\n",
      "Epoch 75/100\n",
      "39951/39951 [==============================] - 8s 193us/step - loss: 30.1750\n",
      "Epoch 76/100\n",
      "39951/39951 [==============================] - 8s 196us/step - loss: 30.1456\n",
      "Epoch 77/100\n",
      "39951/39951 [==============================] - 8s 200us/step - loss: 30.1482\n",
      "Epoch 78/100\n",
      "39951/39951 [==============================] - 7s 179us/step - loss: 30.1550\n",
      "Epoch 79/100\n",
      "39951/39951 [==============================] - 8s 210us/step - loss: 30.1514\n",
      "Epoch 80/100\n",
      "39951/39951 [==============================] - 7s 170us/step - loss: 30.1827\n",
      "Epoch 81/100\n",
      "39951/39951 [==============================] - 9s 219us/step - loss: 30.2247\n",
      "Epoch 82/100\n",
      "39951/39951 [==============================] - 8s 201us/step - loss: 30.1422\n",
      "Epoch 83/100\n",
      "39951/39951 [==============================] - 9s 221us/step - loss: 30.1280\n",
      "Epoch 84/100\n",
      "39951/39951 [==============================] - 9s 214us/step - loss: 30.1566\n",
      "Epoch 85/100\n",
      "39951/39951 [==============================] - 8s 211us/step - loss: 30.1702\n",
      "Epoch 86/100\n",
      "39951/39951 [==============================] - 8s 204us/step - loss: 30.1243\n",
      "Epoch 87/100\n",
      "39951/39951 [==============================] - 8s 188us/step - loss: 30.1179\n",
      "Epoch 88/100\n",
      "39951/39951 [==============================] - 6s 159us/step - loss: 30.1232\n",
      "Epoch 89/100\n",
      "39951/39951 [==============================] - 7s 186us/step - loss: 30.2500\n",
      "Epoch 90/100\n",
      "39951/39951 [==============================] - 7s 177us/step - loss: 30.2371\n",
      "Epoch 91/100\n",
      "39951/39951 [==============================] - 7s 173us/step - loss: 30.1486\n",
      "Epoch 92/100\n"
     ]
    },
    {
     "name": "stdout",
     "output_type": "stream",
     "text": [
      "39951/39951 [==============================] - 9s 231us/step - loss: 30.1174\n",
      "Epoch 93/100\n",
      "39951/39951 [==============================] - 8s 195us/step - loss: 30.1101\n",
      "Epoch 94/100\n",
      "39951/39951 [==============================] - 7s 177us/step - loss: 30.1341\n",
      "Epoch 95/100\n",
      "39951/39951 [==============================] - 9s 215us/step - loss: 30.1526\n",
      "Epoch 96/100\n",
      "39951/39951 [==============================] - 7s 186us/step - loss: 30.1074\n",
      "Epoch 97/100\n",
      "39951/39951 [==============================] - 8s 191us/step - loss: 30.1180\n",
      "Epoch 98/100\n",
      "39951/39951 [==============================] - 8s 194us/step - loss: 30.0894\n",
      "Epoch 99/100\n",
      "39951/39951 [==============================] - 7s 186us/step - loss: 30.0913\n",
      "Epoch 100/100\n",
      "39951/39951 [==============================] - 6s 158us/step - loss: 30.1464\n"
     ]
    }
   ],
   "source": [
    "history = model.fit(x_train, y_train, epochs= 100, batch_size=5500, verbose=1)"
   ]
  },
  {
   "cell_type": "code",
   "execution_count": null,
   "metadata": {},
   "outputs": [],
   "source": []
  },
  {
   "cell_type": "code",
   "execution_count": 409,
   "metadata": {},
   "outputs": [],
   "source": [
    "epochs = history.epoch"
   ]
  },
  {
   "cell_type": "code",
   "execution_count": 410,
   "metadata": {},
   "outputs": [],
   "source": [
    "loss = history.history['loss']"
   ]
  },
  {
   "cell_type": "code",
   "execution_count": null,
   "metadata": {},
   "outputs": [],
   "source": []
  },
  {
   "cell_type": "code",
   "execution_count": 416,
   "metadata": {},
   "outputs": [],
   "source": [
    "#prvih par loss-ova je veliko (100, 40,..) \n",
    "#isekla sam ih na drugom plotu da se vidi variranje pri kraju"
   ]
  },
  {
   "cell_type": "code",
   "execution_count": 415,
   "metadata": {},
   "outputs": [
    {
     "data": {
      "image/png": "[encoded data removed]",
      "text/plain": [
       "<Figure size 936x432 with 2 Axes>"
      ]
     },
     "metadata": {},
     "output_type": "display_data"
    }
   ],
   "source": [
    "plt.figure(figsize=(13,6))\n",
    "\n",
    "plt.subplot(121)\n",
    "plt.xlabel('epochs')\n",
    "plt.ylabel('loss')\n",
    "plt.plot(epochs, loss)\n",
    "plt.title('With first')\n",
    "\n",
    "plt.subplot(122)\n",
    "plt.xlabel('epochs')\n",
    "plt.ylabel('loss')\n",
    "plt.plot(epochs[3:], loss[3:])\n",
    "plt.title('Without first')\n",
    "\n",
    "plt.show()"
   ]
  },
  {
   "cell_type": "code",
   "execution_count": 397,
   "metadata": {},
   "outputs": [
    {
     "name": "stdout",
     "output_type": "stream",
     "text": [
      "19678/19678 [==============================] - 3s 160us/step\n"
     ]
    },
    {
     "data": {
      "text/plain": [
       "29.965854373570924"
      ]
     },
     "execution_count": 397,
     "metadata": {},
     "output_type": "execute_result"
    }
   ],
   "source": [
    "model.evaluate(x_test, y_test)"
   ]
  },
  {
   "cell_type": "code",
   "execution_count": null,
   "metadata": {},
   "outputs": [],
   "source": []
  },
  {
   "cell_type": "code",
   "execution_count": 402,
   "metadata": {},
   "outputs": [
    {
     "data": {
      "text/plain": [
       "array([[31.439865]], dtype=float32)"
      ]
     },
     "execution_count": 402,
     "metadata": {},
     "output_type": "execute_result"
    }
   ],
   "source": [
    "model.predict(sample.reshape(1,-1))"
   ]
  },
  {
   "cell_type": "code",
   "execution_count": null,
   "metadata": {},
   "outputs": [],
   "source": []
  },
  {
   "cell_type": "code",
   "execution_count": 435,
   "metadata": {},
   "outputs": [
    {
     "data": {
      "text/plain": [
       "11.996666666666666"
      ]
     },
     "execution_count": 435,
     "metadata": {},
     "output_type": "execute_result"
    }
   ],
   "source": [
    "data.duration.max()"
   ]
  },
  {
   "cell_type": "code",
   "execution_count": null,
   "metadata": {},
   "outputs": [],
   "source": []
  },
  {
   "cell_type": "code",
   "execution_count": null,
   "metadata": {},
   "outputs": [],
   "source": []
  },
  {
   "cell_type": "code",
   "execution_count": null,
   "metadata": {},
   "outputs": [],
   "source": []
  },
  {
   "cell_type": "code",
   "execution_count": null,
   "metadata": {},
   "outputs": [],
   "source": []
  },
  {
   "cell_type": "code",
   "execution_count": null,
   "metadata": {},
   "outputs": [],
   "source": []
  },
  {
   "cell_type": "code",
   "execution_count": null,
   "metadata": {},
   "outputs": [],
   "source": []
  },
  {
   "cell_type": "code",
   "execution_count": null,
   "metadata": {},
   "outputs": [],
   "source": []
  },
  {
   "cell_type": "code",
   "execution_count": 27,
   "metadata": {},
   "outputs": [
    {
     "name": "stderr",
     "output_type": "stream",
     "text": [
      "/home/ana/anaconda2/lib/python2.7/site-packages/h5py/__init__.py:36: FutureWarning: Conversion of the second argument of issubdtype from `float` to `np.floating` is deprecated. In future, it will be treated as `np.float64 == np.dtype(float).type`.\n",
      "  from ._conv import register_converters as _register_converters\n",
      "Using TensorFlow backend.\n"
     ]
    }
   ],
   "source": [
    "from keras import losses, optimizers"
   ]
  },
  {
   "cell_type": "code",
   "execution_count": null,
   "metadata": {},
   "outputs": [],
   "source": []
  },
  {
   "cell_type": "code",
   "execution_count": 176,
   "metadata": {},
   "outputs": [],
   "source": [
    "data = pd.read_csv('preprocessedData.csv')"
   ]
  },
  {
   "cell_type": "code",
   "execution_count": 177,
   "metadata": {},
   "outputs": [],
   "source": [
    "data['duration'] = (data['duration'] / 60) / 5"
   ]
  },
  {
   "cell_type": "code",
   "execution_count": 178,
   "metadata": {},
   "outputs": [],
   "source": [
    "bins = range(0, 11, 1)\n",
    "data['duration'] = pd.cut(data['duration'], bins)"
   ]
  },
  {
   "cell_type": "code",
   "execution_count": 179,
   "metadata": {},
   "outputs": [],
   "source": [
    "data = data.dropna(subset=['duration', 'end_station_id_distance', 'start_station_id_distance'])"
   ]
  },
  {
   "cell_type": "code",
   "execution_count": 180,
   "metadata": {},
   "outputs": [],
   "source": [
    "#ovde treba sve kategoricke pretvoriti u numericke. Doradi to sutra"
   ]
  },
  {
   "cell_type": "code",
   "execution_count": null,
   "metadata": {},
   "outputs": [],
   "source": []
  },
  {
   "cell_type": "code",
   "execution_count": 189,
   "metadata": {},
   "outputs": [],
   "source": [
    "data.temp_category = pd.get_dummies(data.temp_category, drop_first=True)\n",
    "\n",
    "data.loc[data.time_of_day == 'noon', 'time_of_day'] = 0.6\n",
    "data.loc[data.time_of_day == 'rush_hour', 'time_of_day'] = 0.3\n",
    "data.loc[data.time_of_day == 'night', 'time_of_day'] = 0.9\n",
    "data.loc[data.time_of_day == 'early_morning', 'time_of_day'] = 0\n",
    "\n",
    "data = data.dropna(subset=['start_station_id_distance', 'end_station_id_distance'])\n",
    "\n",
    "data = data.drop_duplicates(keep=False)\n",
    "\n",
    "y = pd.DataFrame(data['duration'], columns=['duration'])\n",
    "\n",
    "x = data.drop(columns=['duration'])\n",
    "\n",
    "x.time_of_day = x.time_of_day.astype('float64')"
   ]
  },
  {
   "cell_type": "code",
   "execution_count": 190,
   "metadata": {},
   "outputs": [
    {
     "data": {
      "text/plain": [
       "[(2, 3], (1, 2], (4, 5], (3, 4], (6, 7], (5, 6], (7, 8], (8, 9], (9, 10]]\n",
       "Categories (9, interval[int64]): [(1, 2] < (2, 3] < (3, 4] < (4, 5] ... (6, 7] < (7, 8] < (8, 9] < (9, 10]]"
      ]
     },
     "execution_count": 190,
     "metadata": {},
     "output_type": "execute_result"
    }
   ],
   "source": [
    "y.duration.unique()"
   ]
  },
  {
   "cell_type": "code",
   "execution_count": 191,
   "metadata": {},
   "outputs": [],
   "source": [
    "y['duration'] = y.duration.cat.codes"
   ]
  },
  {
   "cell_type": "code",
   "execution_count": 192,
   "metadata": {},
   "outputs": [
    {
     "data": {
      "text/plain": [
       "array([2, 1, 4, 3, 6, 5, 7, 8, 9])"
      ]
     },
     "execution_count": 192,
     "metadata": {},
     "output_type": "execute_result"
    }
   ],
   "source": [
    "y.duration.unique()"
   ]
  },
  {
   "cell_type": "code",
   "execution_count": null,
   "metadata": {},
   "outputs": [],
   "source": []
  },
  {
   "cell_type": "code",
   "execution_count": 185,
   "metadata": {},
   "outputs": [],
   "source": [
    "from keras.utils.np_utils import to_categorical"
   ]
  },
  {
   "cell_type": "code",
   "execution_count": 194,
   "metadata": {},
   "outputs": [],
   "source": [
    "y = to_categorical(y.duration)"
   ]
  },
  {
   "cell_type": "code",
   "execution_count": null,
   "metadata": {},
   "outputs": [],
   "source": []
  },
  {
   "cell_type": "code",
   "execution_count": null,
   "metadata": {},
   "outputs": [],
   "source": []
  },
  {
   "cell_type": "code",
   "execution_count": null,
   "metadata": {},
   "outputs": [],
   "source": []
  },
  {
   "cell_type": "code",
   "execution_count": 238,
   "metadata": {},
   "outputs": [],
   "source": [
    "x_train, x_test, y_train, y_test = model_selection.train_test_split(x, y, test_size = 0.1, random_state = 42, stratify = data['duration'])"
   ]
  },
  {
   "cell_type": "code",
   "execution_count": null,
   "metadata": {},
   "outputs": [],
   "source": [
    "\n"
   ]
  },
  {
   "cell_type": "code",
   "execution_count": 239,
   "metadata": {},
   "outputs": [],
   "source": [
    "number_of_features = x_train.shape[1]\n",
    "output_size = y.shape[1]"
   ]
  },
  {
   "cell_type": "code",
   "execution_count": 240,
   "metadata": {},
   "outputs": [],
   "source": [
    "model = Sequential()"
   ]
  },
  {
   "cell_type": "code",
   "execution_count": 241,
   "metadata": {},
   "outputs": [],
   "source": [
    "model.add(Dense(units = 500, input_dim = number_of_features, activation = 'relu'))"
   ]
  },
  {
   "cell_type": "code",
   "execution_count": 242,
   "metadata": {},
   "outputs": [],
   "source": [
    "model.add(Dense(units = 400, activation = 'relu'))"
   ]
  },
  {
   "cell_type": "code",
   "execution_count": 243,
   "metadata": {},
   "outputs": [],
   "source": [
    "model.add(Dense(units = 300, activation = 'relu'))"
   ]
  },
  {
   "cell_type": "code",
   "execution_count": 244,
   "metadata": {},
   "outputs": [],
   "source": [
    "model.add(Dense(units = 100, activation = 'relu'))"
   ]
  },
  {
   "cell_type": "code",
   "execution_count": 245,
   "metadata": {},
   "outputs": [],
   "source": [
    "model.add(Dense(units = output_size, activation = 'sigmoid'))"
   ]
  },
  {
   "cell_type": "code",
   "execution_count": null,
   "metadata": {},
   "outputs": [],
   "source": []
  },
  {
   "cell_type": "code",
   "execution_count": null,
   "metadata": {},
   "outputs": [],
   "source": []
  },
  {
   "cell_type": "code",
   "execution_count": 246,
   "metadata": {},
   "outputs": [],
   "source": [
    "model.compile(optimizer='adam', loss=losses.categorical_crossentropy, metrics=['accuracy'])"
   ]
  },
  {
   "cell_type": "code",
   "execution_count": 247,
   "metadata": {},
   "outputs": [
    {
     "name": "stdout",
     "output_type": "stream",
     "text": [
      "_________________________________________________________________\n",
      "Layer (type)                 Output Shape              Param #   \n",
      "=================================================================\n",
      "dense_51 (Dense)             (None, 500)               6000      \n",
      "_________________________________________________________________\n",
      "dense_52 (Dense)             (None, 400)               200400    \n",
      "_________________________________________________________________\n",
      "dense_53 (Dense)             (None, 300)               120300    \n",
      "_________________________________________________________________\n",
      "dense_54 (Dense)             (None, 100)               30100     \n",
      "_________________________________________________________________\n",
      "dense_55 (Dense)             (None, 10)                1010      \n",
      "=================================================================\n",
      "Total params: 357,810\n",
      "Trainable params: 357,810\n",
      "Non-trainable params: 0\n",
      "_________________________________________________________________\n"
     ]
    }
   ],
   "source": [
    "model.summary()"
   ]
  },
  {
   "cell_type": "code",
   "execution_count": 264,
   "metadata": {},
   "outputs": [
    {
     "name": "stdout",
     "output_type": "stream",
     "text": [
      "Train on 37454 samples, validate on 9364 samples\n",
      "Epoch 1/80\n",
      "37454/37454 [==============================] - 11s 286us/step - loss: 1.0884 - acc: 0.5706 - val_loss: 1.0922 - val_acc: 0.5709\n",
      "Epoch 2/80\n",
      "37454/37454 [==============================] - 8s 221us/step - loss: 1.0882 - acc: 0.5706 - val_loss: 1.0920 - val_acc: 0.5709\n",
      "Epoch 3/80\n",
      "37454/37454 [==============================] - 8s 214us/step - loss: 1.0874 - acc: 0.5706 - val_loss: 1.0913 - val_acc: 0.5709\n",
      "Epoch 4/80\n",
      "37454/37454 [==============================] - 9s 244us/step - loss: 1.0875 - acc: 0.5706 - val_loss: 1.0922 - val_acc: 0.5709\n",
      "Epoch 5/80\n",
      "37454/37454 [==============================] - 10s 275us/step - loss: 1.0870 - acc: 0.5706 - val_loss: 1.0917 - val_acc: 0.5709\n",
      "Epoch 6/80\n",
      "37454/37454 [==============================] - 9s 236us/step - loss: 1.0871 - acc: 0.5706 - val_loss: 1.0941 - val_acc: 0.5709\n",
      "Epoch 7/80\n",
      "37454/37454 [==============================] - 9s 240us/step - loss: 1.0881 - acc: 0.5706 - val_loss: 1.0927 - val_acc: 0.5709\n",
      "Epoch 8/80\n",
      "37454/37454 [==============================] - 9s 240us/step - loss: 1.0877 - acc: 0.5706 - val_loss: 1.0924 - val_acc: 0.5709\n",
      "Epoch 9/80\n",
      "37454/37454 [==============================] - 9s 244us/step - loss: 1.0873 - acc: 0.5706 - val_loss: 1.0925 - val_acc: 0.5709\n",
      "Epoch 10/80\n",
      "37454/37454 [==============================] - 9s 237us/step - loss: 1.0872 - acc: 0.5706 - val_loss: 1.0922 - val_acc: 0.5709\n",
      "Epoch 11/80\n",
      "37454/37454 [==============================] - 9s 243us/step - loss: 1.0871 - acc: 0.5706 - val_loss: 1.0919 - val_acc: 0.5709\n",
      "Epoch 12/80\n",
      "37454/37454 [==============================] - 9s 249us/step - loss: 1.0879 - acc: 0.5706 - val_loss: 1.0911 - val_acc: 0.5709\n",
      "Epoch 13/80\n",
      "37454/37454 [==============================] - 9s 242us/step - loss: 1.0874 - acc: 0.5706 - val_loss: 1.0925 - val_acc: 0.5709\n",
      "Epoch 14/80\n",
      "37454/37454 [==============================] - 9s 239us/step - loss: 1.0876 - acc: 0.5706 - val_loss: 1.0912 - val_acc: 0.5709\n",
      "Epoch 15/80\n",
      "37454/37454 [==============================] - 8s 216us/step - loss: 1.0867 - acc: 0.5706 - val_loss: 1.0928 - val_acc: 0.5709\n",
      "Epoch 16/80\n",
      "37454/37454 [==============================] - 8s 224us/step - loss: 1.0875 - acc: 0.5706 - val_loss: 1.0914 - val_acc: 0.5709\n",
      "Epoch 17/80\n",
      "37454/37454 [==============================] - 8s 219us/step - loss: 1.0881 - acc: 0.5706 - val_loss: 1.0926 - val_acc: 0.5709\n",
      "Epoch 18/80\n",
      "37454/37454 [==============================] - 8s 222us/step - loss: 1.0880 - acc: 0.5706 - val_loss: 1.0927 - val_acc: 0.5709\n",
      "Epoch 19/80\n",
      "37454/37454 [==============================] - 8s 219us/step - loss: 1.0883 - acc: 0.5706 - val_loss: 1.0923 - val_acc: 0.5709\n",
      "Epoch 20/80\n",
      "37454/37454 [==============================] - 8s 224us/step - loss: 1.0876 - acc: 0.5706 - val_loss: 1.0914 - val_acc: 0.5709\n",
      "Epoch 21/80\n",
      "37454/37454 [==============================] - 8s 218us/step - loss: 1.0864 - acc: 0.5706 - val_loss: 1.0907 - val_acc: 0.5709\n",
      "Epoch 22/80\n",
      "37454/37454 [==============================] - 8s 221us/step - loss: 1.0873 - acc: 0.5706 - val_loss: 1.0914 - val_acc: 0.5709\n",
      "Epoch 23/80\n",
      "37454/37454 [==============================] - 8s 226us/step - loss: 1.0873 - acc: 0.5706 - val_loss: 1.0932 - val_acc: 0.5709\n",
      "Epoch 24/80\n",
      "37454/37454 [==============================] - 8s 221us/step - loss: 1.0875 - acc: 0.5706 - val_loss: 1.0966 - val_acc: 0.5709\n",
      "Epoch 25/80\n",
      "37454/37454 [==============================] - 8s 221us/step - loss: 1.0886 - acc: 0.5706 - val_loss: 1.0942 - val_acc: 0.5709\n",
      "Epoch 26/80\n",
      "37454/37454 [==============================] - 9s 234us/step - loss: 1.0883 - acc: 0.5706 - val_loss: 1.0921 - val_acc: 0.5709\n",
      "Epoch 27/80\n",
      "37454/37454 [==============================] - 9s 227us/step - loss: 1.0888 - acc: 0.5706 - val_loss: 1.0924 - val_acc: 0.5709\n",
      "Epoch 28/80\n",
      "37454/37454 [==============================] - 9s 245us/step - loss: 1.0870 - acc: 0.5706 - val_loss: 1.0921 - val_acc: 0.5709\n",
      "Epoch 29/80\n",
      "37454/37454 [==============================] - 11s 283us/step - loss: 1.0867 - acc: 0.5706 - val_loss: 1.0910 - val_acc: 0.5709\n",
      "Epoch 30/80\n",
      "37454/37454 [==============================] - 13s 339us/step - loss: 1.0863 - acc: 0.5706 - val_loss: 1.0913 - val_acc: 0.5709\n",
      "Epoch 31/80\n",
      "37454/37454 [==============================] - 13s 343us/step - loss: 1.0876 - acc: 0.5706 - val_loss: 1.0936 - val_acc: 0.5709\n",
      "Epoch 32/80\n",
      "37454/37454 [==============================] - 12s 313us/step - loss: 1.0876 - acc: 0.5706 - val_loss: 1.0920 - val_acc: 0.5709\n",
      "Epoch 33/80\n",
      "37454/37454 [==============================] - 10s 260us/step - loss: 1.0873 - acc: 0.5706 - val_loss: 1.0916 - val_acc: 0.5709\n",
      "Epoch 34/80\n",
      "37454/37454 [==============================] - 9s 239us/step - loss: 1.0872 - acc: 0.5706 - val_loss: 1.0908 - val_acc: 0.5709\n",
      "Epoch 35/80\n",
      "37454/37454 [==============================] - 9s 232us/step - loss: 1.0859 - acc: 0.5706 - val_loss: 1.0911 - val_acc: 0.5709\n",
      "Epoch 36/80\n",
      "37454/37454 [==============================] - 8s 220us/step - loss: 1.0858 - acc: 0.5706 - val_loss: 1.0918 - val_acc: 0.5709\n",
      "Epoch 37/80\n",
      "37454/37454 [==============================] - 8s 222us/step - loss: 1.0858 - acc: 0.5706 - val_loss: 1.0904 - val_acc: 0.5709\n",
      "Epoch 38/80\n",
      "37454/37454 [==============================] - 9s 229us/step - loss: 1.0858 - acc: 0.5706 - val_loss: 1.0913 - val_acc: 0.5709\n",
      "Epoch 39/80\n",
      "37454/37454 [==============================] - 8s 223us/step - loss: 1.0852 - acc: 0.5706 - val_loss: 1.0907 - val_acc: 0.5709\n",
      "Epoch 40/80\n",
      "37454/37454 [==============================] - 8s 219us/step - loss: 1.0851 - acc: 0.5706 - val_loss: 1.0910 - val_acc: 0.5709\n",
      "Epoch 41/80\n",
      "37454/37454 [==============================] - 8s 221us/step - loss: 1.0869 - acc: 0.5706 - val_loss: 1.0907 - val_acc: 0.5709\n",
      "Epoch 42/80\n",
      "37454/37454 [==============================] - 9s 230us/step - loss: 1.0872 - acc: 0.5706 - val_loss: 1.0930 - val_acc: 0.5709\n",
      "Epoch 43/80\n",
      "37454/37454 [==============================] - 8s 214us/step - loss: 1.0866 - acc: 0.5706 - val_loss: 1.0924 - val_acc: 0.5709\n",
      "Epoch 44/80\n",
      "37454/37454 [==============================] - 9s 229us/step - loss: 1.0851 - acc: 0.5706 - val_loss: 1.0907 - val_acc: 0.5709\n",
      "Epoch 45/80\n",
      "37454/37454 [==============================] - 8s 215us/step - loss: 1.0853 - acc: 0.5706 - val_loss: 1.0911 - val_acc: 0.5709\n",
      "Epoch 46/80\n",
      "37454/37454 [==============================] - 8s 222us/step - loss: 1.0851 - acc: 0.5706 - val_loss: 1.0909 - val_acc: 0.5709\n",
      "Epoch 47/80\n",
      "37454/37454 [==============================] - 8s 214us/step - loss: 1.0853 - acc: 0.5706 - val_loss: 1.0912 - val_acc: 0.5709\n",
      "Epoch 48/80\n",
      "37454/37454 [==============================] - 8s 223us/step - loss: 1.0858 - acc: 0.5706 - val_loss: 1.0905 - val_acc: 0.5709\n",
      "Epoch 49/80\n",
      "37454/37454 [==============================] - 8s 221us/step - loss: 1.0856 - acc: 0.5706 - val_loss: 1.0940 - val_acc: 0.5709\n",
      "Epoch 50/80\n",
      "37454/37454 [==============================] - 8s 217us/step - loss: 1.0864 - acc: 0.5706 - val_loss: 1.0919 - val_acc: 0.5709\n",
      "Epoch 51/80\n",
      "37454/37454 [==============================] - 8s 213us/step - loss: 1.0873 - acc: 0.5706 - val_loss: 1.0923 - val_acc: 0.5709\n",
      "Epoch 52/80\n",
      "37454/37454 [==============================] - 8s 219us/step - loss: 1.0859 - acc: 0.5706 - val_loss: 1.0912 - val_acc: 0.5709\n",
      "Epoch 53/80\n",
      "37454/37454 [==============================] - 9s 230us/step - loss: 1.0847 - acc: 0.5706 - val_loss: 1.0906 - val_acc: 0.5709\n",
      "Epoch 54/80\n",
      "37454/37454 [==============================] - 8s 213us/step - loss: 1.0847 - acc: 0.5706 - val_loss: 1.0910 - val_acc: 0.5709\n",
      "Epoch 55/80\n",
      "37454/37454 [==============================] - 8s 221us/step - loss: 1.0843 - acc: 0.5706 - val_loss: 1.0919 - val_acc: 0.5709\n",
      "Epoch 56/80\n",
      "37454/37454 [==============================] - 8s 214us/step - loss: 1.0851 - acc: 0.5706 - val_loss: 1.0914 - val_acc: 0.5709\n",
      "Epoch 57/80\n",
      "37454/37454 [==============================] - 8s 220us/step - loss: 1.0856 - acc: 0.5706 - val_loss: 1.0921 - val_acc: 0.5709\n",
      "Epoch 58/80\n",
      "37454/37454 [==============================] - 8s 209us/step - loss: 1.0864 - acc: 0.5706 - val_loss: 1.0928 - val_acc: 0.5709\n",
      "Epoch 59/80\n"
     ]
    },
    {
     "name": "stdout",
     "output_type": "stream",
     "text": [
      "37454/37454 [==============================] - 8s 216us/step - loss: 1.0861 - acc: 0.5706 - val_loss: 1.0907 - val_acc: 0.5709\n",
      "Epoch 60/80\n",
      "37454/37454 [==============================] - 8s 210us/step - loss: 1.0850 - acc: 0.5706 - val_loss: 1.0912 - val_acc: 0.5709\n",
      "Epoch 61/80\n",
      "37454/37454 [==============================] - 8s 215us/step - loss: 1.0843 - acc: 0.5706 - val_loss: 1.0903 - val_acc: 0.5709\n",
      "Epoch 62/80\n",
      "37454/37454 [==============================] - 8s 215us/step - loss: 1.0838 - acc: 0.5706 - val_loss: 1.0905 - val_acc: 0.5709\n",
      "Epoch 63/80\n",
      "37454/37454 [==============================] - 8s 215us/step - loss: 1.0843 - acc: 0.5706 - val_loss: 1.0907 - val_acc: 0.5709\n",
      "Epoch 64/80\n",
      "37454/37454 [==============================] - 8s 214us/step - loss: 1.0857 - acc: 0.5706 - val_loss: 1.0925 - val_acc: 0.5709\n",
      "Epoch 65/80\n",
      "37454/37454 [==============================] - 8s 215us/step - loss: 1.0843 - acc: 0.5706 - val_loss: 1.0916 - val_acc: 0.5709\n",
      "Epoch 66/80\n",
      "37454/37454 [==============================] - 8s 209us/step - loss: 1.0840 - acc: 0.5706 - val_loss: 1.0906 - val_acc: 0.5709\n",
      "Epoch 67/80\n",
      "37454/37454 [==============================] - 10s 255us/step - loss: 1.0838 - acc: 0.5706 - val_loss: 1.0928 - val_acc: 0.5709\n",
      "Epoch 68/80\n",
      "37454/37454 [==============================] - 12s 332us/step - loss: 1.0859 - acc: 0.5706 - val_loss: 1.0912 - val_acc: 0.5709\n",
      "Epoch 69/80\n",
      "37454/37454 [==============================] - 11s 293us/step - loss: 1.0873 - acc: 0.5706 - val_loss: 1.0964 - val_acc: 0.5709\n",
      "Epoch 70/80\n",
      "37454/37454 [==============================] - 9s 250us/step - loss: 1.0868 - acc: 0.5706 - val_loss: 1.0922 - val_acc: 0.5709\n",
      "Epoch 71/80\n",
      "37454/37454 [==============================] - 10s 258us/step - loss: 1.0845 - acc: 0.5706 - val_loss: 1.0916 - val_acc: 0.5709\n",
      "Epoch 72/80\n",
      "37454/37454 [==============================] - 9s 235us/step - loss: 1.0844 - acc: 0.5706 - val_loss: 1.0932 - val_acc: 0.5709\n",
      "Epoch 73/80\n",
      "37454/37454 [==============================] - 11s 291us/step - loss: 1.0851 - acc: 0.5706 - val_loss: 1.0911 - val_acc: 0.5709\n",
      "Epoch 74/80\n",
      "37454/37454 [==============================] - 10s 274us/step - loss: 1.0836 - acc: 0.5706 - val_loss: 1.0908 - val_acc: 0.5709\n",
      "Epoch 75/80\n",
      "37454/37454 [==============================] - 11s 283us/step - loss: 1.0833 - acc: 0.5706 - val_loss: 1.0912 - val_acc: 0.5709\n",
      "Epoch 76/80\n",
      "37454/37454 [==============================] - 11s 288us/step - loss: 1.0832 - acc: 0.5706 - val_loss: 1.0904 - val_acc: 0.5709\n",
      "Epoch 77/80\n",
      "37454/37454 [==============================] - 10s 270us/step - loss: 1.0833 - acc: 0.5706 - val_loss: 1.0903 - val_acc: 0.5709\n",
      "Epoch 78/80\n",
      "37454/37454 [==============================] - 10s 268us/step - loss: 1.0832 - acc: 0.5706 - val_loss: 1.0909 - val_acc: 0.5709\n",
      "Epoch 79/80\n",
      "37454/37454 [==============================] - 10s 277us/step - loss: 1.0833 - acc: 0.5706 - val_loss: 1.0912 - val_acc: 0.5709\n",
      "Epoch 80/80\n",
      "37454/37454 [==============================] - 9s 250us/step - loss: 1.0839 - acc: 0.5706 - val_loss: 1.0958 - val_acc: 0.5709\n"
     ]
    }
   ],
   "source": [
    "history = model.fit(x_train, y_train, epochs=80, batch_size=5500, verbose=1, validation_split=0.2)"
   ]
  },
  {
   "cell_type": "code",
   "execution_count": null,
   "metadata": {},
   "outputs": [],
   "source": []
  },
  {
   "cell_type": "code",
   "execution_count": null,
   "metadata": {},
   "outputs": [],
   "source": []
  },
  {
   "cell_type": "code",
   "execution_count": null,
   "metadata": {},
   "outputs": [],
   "source": []
  },
  {
   "cell_type": "code",
   "execution_count": 265,
   "metadata": {},
   "outputs": [
    {
     "data": {
      "text/plain": [
       "<matplotlib.legend.Legend at 0x7f7a23afd6d0>"
      ]
     },
     "execution_count": 265,
     "metadata": {},
     "output_type": "execute_result"
    },
    {
     "data": {
      "image/png": "[encoded data removed]",
      "text/plain": [
       "<Figure size 432x288 with 1 Axes>"
      ]
     },
     "metadata": {},
     "output_type": "display_data"
    }
   ],
   "source": [
    "epochs = history.epoch\n",
    "\n",
    "loss = history.history['loss']\n",
    "validation_loss = history.history['val_loss']\n",
    "\n",
    "plt.xlabel('epochs')\n",
    "plt.ylabel('loss')\n",
    "plt.plot(epochs, loss, c='red', label='training')\n",
    "plt.plot(epochs, validation_loss, c='orange', label='validation')\n",
    "plt.legend(loc='best')"
   ]
  },
  {
   "cell_type": "code",
   "execution_count": null,
   "metadata": {},
   "outputs": [],
   "source": []
  },
  {
   "cell_type": "code",
   "execution_count": null,
   "metadata": {},
   "outputs": [],
   "source": []
  },
  {
   "cell_type": "code",
   "execution_count": 266,
   "metadata": {},
   "outputs": [
    {
     "data": {
      "text/plain": [
       "<matplotlib.legend.Legend at 0x7f7a23a06610>"
      ]
     },
     "execution_count": 266,
     "metadata": {},
     "output_type": "execute_result"
    },
    {
     "data": {
      "image/png": "[encoded data removed]",
      "text/plain": [
       "<Figure size 432x288 with 1 Axes>"
      ]
     },
     "metadata": {},
     "output_type": "display_data"
    }
   ],
   "source": [
    "acc = history.history['acc']\n",
    "validation_acc = history.history['val_acc']\n",
    "\n",
    "plt.xlabel('epochs')\n",
    "plt.ylabel('acc')\n",
    "plt.plot(epochs, acc, c='red', label='training')\n",
    "plt.plot(epochs, validation_acc, c='orange', label='validation')\n",
    "plt.legend(loc='best')"
   ]
  },
  {
   "cell_type": "code",
   "execution_count": null,
   "metadata": {},
   "outputs": [],
   "source": []
  },
  {
   "cell_type": "code",
   "execution_count": null,
   "metadata": {},
   "outputs": [],
   "source": []
  },
  {
   "cell_type": "code",
   "execution_count": 267,
   "metadata": {},
   "outputs": [
    {
     "name": "stdout",
     "output_type": "stream",
     "text": [
      "5202/5202 [==============================] - 2s 314us/step\n",
      "Test loss: 1.09681650172, test accuracy: 0.570742022276\n"
     ]
    }
   ],
   "source": [
    "# evaluacija mreze\n",
    "test_loss, test_acc = model.evaluate(x_test, y_test)\n",
    "print (\"Test loss: {}, test accuracy: {}\".format(test_loss, test_acc))"
   ]
  },
  {
   "cell_type": "code",
   "execution_count": null,
   "metadata": {},
   "outputs": [],
   "source": []
  },
  {
   "cell_type": "code",
   "execution_count": null,
   "metadata": {},
   "outputs": [],
   "source": []
  },
  {
   "cell_type": "code",
   "execution_count": null,
   "metadata": {},
   "outputs": [],
   "source": []
  },
  {
   "cell_type": "code",
   "execution_count": null,
   "metadata": {},
   "outputs": [],
   "source": []
  }
 ],
 "metadata": {
  "kernelspec": {
   "display_name": "Python 2",
   "language": "python",
   "name": "python2"
  },
  "language_info": {
   "codemirror_mode": {
    "name": "ipython",
    "version": 2
   },
   "file_extension": ".py",
   "mimetype": "text/x-python",
   "name": "python",
   "nbconvert_exporter": "python",
   "pygments_lexer": "ipython2",
   "version": "2.7.15"
  }
 },
 "nbformat": 4,
 "nbformat_minor": 2
}
